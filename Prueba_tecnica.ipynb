{
 "cells": [
  {
   "cell_type": "markdown",
   "metadata": {},
   "source": [
    "# DESARROLLO DE LA PRUEBA"
   ]
  },
  {
   "cell_type": "markdown",
   "metadata": {},
   "source": [
    "# Librerias"
   ]
  },
  {
   "cell_type": "code",
   "execution_count": 11,
   "metadata": {},
   "outputs": [],
   "source": [
    "import pandas as pd\n",
    "import matplotlib.pyplot as plt\n",
    "import seaborn as sns"
   ]
  },
  {
   "cell_type": "markdown",
   "metadata": {},
   "source": [
    "## 1. Lectura de los datos"
   ]
  },
  {
   "cell_type": "code",
   "execution_count": 2,
   "metadata": {},
   "outputs": [],
   "source": [
    "data= pd.read_csv(\"Cruceros.csv\")"
   ]
  },
  {
   "cell_type": "markdown",
   "metadata": {},
   "source": [
    "## 2. Mostrar columnas"
   ]
  },
  {
   "cell_type": "code",
   "execution_count": 3,
   "metadata": {},
   "outputs": [
    {
     "data": {
      "text/html": [
       "<div>\n",
       "<style scoped>\n",
       "    .dataframe tbody tr th:only-of-type {\n",
       "        vertical-align: middle;\n",
       "    }\n",
       "\n",
       "    .dataframe tbody tr th {\n",
       "        vertical-align: top;\n",
       "    }\n",
       "\n",
       "    .dataframe thead th {\n",
       "        text-align: right;\n",
       "    }\n",
       "</style>\n",
       "<table border=\"1\" class=\"dataframe\">\n",
       "  <thead>\n",
       "    <tr style=\"text-align: right;\">\n",
       "      <th></th>\n",
       "      <th>Ship_name</th>\n",
       "      <th>Cruise_line</th>\n",
       "      <th>Age</th>\n",
       "      <th>Tonnage</th>\n",
       "      <th>passengers</th>\n",
       "      <th>length</th>\n",
       "      <th>cabins</th>\n",
       "      <th>passenger_density</th>\n",
       "      <th>crew</th>\n",
       "    </tr>\n",
       "  </thead>\n",
       "  <tbody>\n",
       "    <tr>\n",
       "      <th>0</th>\n",
       "      <td>Journey</td>\n",
       "      <td>Azamara</td>\n",
       "      <td>6</td>\n",
       "      <td>30.277</td>\n",
       "      <td>6.94</td>\n",
       "      <td>5.94</td>\n",
       "      <td>3.55</td>\n",
       "      <td>42.64</td>\n",
       "      <td>3.55</td>\n",
       "    </tr>\n",
       "    <tr>\n",
       "      <th>1</th>\n",
       "      <td>Quest</td>\n",
       "      <td>Azamara</td>\n",
       "      <td>6</td>\n",
       "      <td>30.277</td>\n",
       "      <td>6.94</td>\n",
       "      <td>5.94</td>\n",
       "      <td>3.55</td>\n",
       "      <td>42.64</td>\n",
       "      <td>3.55</td>\n",
       "    </tr>\n",
       "    <tr>\n",
       "      <th>2</th>\n",
       "      <td>Celebration</td>\n",
       "      <td>Carnival</td>\n",
       "      <td>26</td>\n",
       "      <td>47.262</td>\n",
       "      <td>14.86</td>\n",
       "      <td>7.22</td>\n",
       "      <td>7.43</td>\n",
       "      <td>31.80</td>\n",
       "      <td>6.70</td>\n",
       "    </tr>\n",
       "    <tr>\n",
       "      <th>3</th>\n",
       "      <td>Conquest</td>\n",
       "      <td>Carnival</td>\n",
       "      <td>11</td>\n",
       "      <td>110.000</td>\n",
       "      <td>29.74</td>\n",
       "      <td>9.53</td>\n",
       "      <td>14.88</td>\n",
       "      <td>36.99</td>\n",
       "      <td>19.10</td>\n",
       "    </tr>\n",
       "    <tr>\n",
       "      <th>4</th>\n",
       "      <td>Destiny</td>\n",
       "      <td>Carnival</td>\n",
       "      <td>17</td>\n",
       "      <td>101.353</td>\n",
       "      <td>26.42</td>\n",
       "      <td>8.92</td>\n",
       "      <td>13.21</td>\n",
       "      <td>38.36</td>\n",
       "      <td>10.00</td>\n",
       "    </tr>\n",
       "  </tbody>\n",
       "</table>\n",
       "</div>"
      ],
      "text/plain": [
       "     Ship_name Cruise_line  Age  Tonnage  passengers  length  cabins  \\\n",
       "0      Journey     Azamara    6   30.277        6.94    5.94    3.55   \n",
       "1        Quest     Azamara    6   30.277        6.94    5.94    3.55   \n",
       "2  Celebration    Carnival   26   47.262       14.86    7.22    7.43   \n",
       "3     Conquest    Carnival   11  110.000       29.74    9.53   14.88   \n",
       "4      Destiny    Carnival   17  101.353       26.42    8.92   13.21   \n",
       "\n",
       "   passenger_density   crew  \n",
       "0              42.64   3.55  \n",
       "1              42.64   3.55  \n",
       "2              31.80   6.70  \n",
       "3              36.99  19.10  \n",
       "4              38.36  10.00  "
      ]
     },
     "execution_count": 3,
     "metadata": {},
     "output_type": "execute_result"
    }
   ],
   "source": [
    "data.head()"
   ]
  },
  {
   "cell_type": "markdown",
   "metadata": {},
   "source": [
    "## 3. Calcular estadísticas básicas de los datos, interpretarlos y enunciar sus observaciones"
   ]
  },
  {
   "cell_type": "code",
   "execution_count": 4,
   "metadata": {},
   "outputs": [
    {
     "name": "stdout",
     "output_type": "stream",
     "text": [
      "<class 'pandas.core.frame.DataFrame'>\n",
      "RangeIndex: 158 entries, 0 to 157\n",
      "Data columns (total 9 columns):\n",
      " #   Column             Non-Null Count  Dtype  \n",
      "---  ------             --------------  -----  \n",
      " 0   Ship_name          158 non-null    object \n",
      " 1   Cruise_line        158 non-null    object \n",
      " 2   Age                158 non-null    int64  \n",
      " 3   Tonnage            158 non-null    float64\n",
      " 4   passengers         158 non-null    float64\n",
      " 5   length             158 non-null    float64\n",
      " 6   cabins             158 non-null    float64\n",
      " 7   passenger_density  158 non-null    float64\n",
      " 8   crew               158 non-null    float64\n",
      "dtypes: float64(6), int64(1), object(2)\n",
      "memory usage: 11.2+ KB\n"
     ]
    }
   ],
   "source": [
    "# tipos de variables\n",
    "\n",
    "data.info()"
   ]
  },
  {
   "cell_type": "code",
   "execution_count": 6,
   "metadata": {},
   "outputs": [
    {
     "name": "stdout",
     "output_type": "stream",
     "text": [
      "Cantidad de observaciones:  158\n"
     ]
    }
   ],
   "source": [
    "#cantidad de datos\n",
    "len_data=len(data)\n",
    "print(\"Cantidad de observaciones: \",len(data))"
   ]
  },
  {
   "cell_type": "code",
   "execution_count": 7,
   "metadata": {},
   "outputs": [
    {
     "name": "stdout",
     "output_type": "stream",
     "text": [
      "La variable Ship_name tiene como valores unicos: \n",
      "Journey, Quest, Celebration, Conquest, Destiny, Ecstasy, Elation, Fantasy, Fascination, Freedom, Glory, Holiday, Imagination, Inspiration, Legend, Liberty*, Miracle, Paradise, Pride, Sensation, Spirit, Triumph, Valor, Victory, Century, Constellation, Galaxy, Infinity, Mercury, Millenium, Solstice, Summit, Xpedition, Zenith, Allegra, Atlantica, Classica, Europa, Fortuna, Magica, Marina, Mediterranea, Romantica, Serena, Victoria, Serenity, Symphony, QueenElizabethII, QueenMary2, QueenVictoria, Magic, Wonder, Amsterdam, Eurodam, Maasdam, Noordam, Oosterdam, Prinsendam, Rotterdam, Ryndam, Statendam, Veendam, Volendam, Westerdam, Zaandam, Zuiderdam, Armonia, Fantasia, Lirica, Melody, Musica, Opera, Rhapsody, Sinfonia, Crown, Dawn, Dream, Gem, Jewel, Majesty, PrideofAloha, PrideofAmerica, Sea, Star, Sun, Wind, Insignia, Nautica, Regatta, MarcoPolo, Arcadia, Artemis, Aurora, Oceana, Oriana, Ventura, Caribbean, Coral, Diamond, Emerald, Golden, Grand, Island, Pacific, Regal, Royal, Saphire, Tahitian, ExplorerII, Mariner, Navigator, PaulGauguin, Voyager, Adventure, Brilliance, Empress, Enchantment, Explorer, Grandeur, Independence, Liberty, Monarch, Oasis, Radiance, Serenade, Sovreign, Splendour, Vision, Cloud, Shadow, Whisper, Aries, Gemini, Libra, Pisces, Taurus, Virgo, Surf \n",
      "\n",
      "La variable Cruise_line tiene como valores unicos: \n",
      "Azamara, Carnival, Celebrity, Costa, Crystal, Cunard, Disney, Holland_American, MSC, Norwegian, Oceania, Orient, P&O, Princess, Regent_Seven_Seas, Royal_Caribbean, Seabourn, Silversea, Star, Windstar \n",
      "\n"
     ]
    }
   ],
   "source": [
    "#Valores unicos\n",
    "s=[print(\"La variable \" + name + \" tiene como valores unicos: \\n\"+ \", \".join(map(str,data[name].unique())),\"\\n\") \n",
    "for name in list(data.select_dtypes(include='object').columns)]"
   ]
  },
  {
   "cell_type": "code",
   "execution_count": 8,
   "metadata": {},
   "outputs": [
    {
     "data": {
      "text/html": [
       "<div>\n",
       "<style scoped>\n",
       "    .dataframe tbody tr th:only-of-type {\n",
       "        vertical-align: middle;\n",
       "    }\n",
       "\n",
       "    .dataframe tbody tr th {\n",
       "        vertical-align: top;\n",
       "    }\n",
       "\n",
       "    .dataframe thead th {\n",
       "        text-align: right;\n",
       "    }\n",
       "</style>\n",
       "<table border=\"1\" class=\"dataframe\">\n",
       "  <thead>\n",
       "    <tr style=\"text-align: right;\">\n",
       "      <th></th>\n",
       "      <th>Ship_name</th>\n",
       "      <th>Cruise_line</th>\n",
       "    </tr>\n",
       "  </thead>\n",
       "  <tbody>\n",
       "    <tr>\n",
       "      <th>count</th>\n",
       "      <td>158</td>\n",
       "      <td>158</td>\n",
       "    </tr>\n",
       "    <tr>\n",
       "      <th>unique</th>\n",
       "      <td>138</td>\n",
       "      <td>20</td>\n",
       "    </tr>\n",
       "    <tr>\n",
       "      <th>top</th>\n",
       "      <td>Spirit</td>\n",
       "      <td>Royal_Caribbean</td>\n",
       "    </tr>\n",
       "    <tr>\n",
       "      <th>freq</th>\n",
       "      <td>4</td>\n",
       "      <td>23</td>\n",
       "    </tr>\n",
       "  </tbody>\n",
       "</table>\n",
       "</div>"
      ],
      "text/plain": [
       "       Ship_name      Cruise_line\n",
       "count        158              158\n",
       "unique       138               20\n",
       "top       Spirit  Royal_Caribbean\n",
       "freq           4               23"
      ]
     },
     "execution_count": 8,
     "metadata": {},
     "output_type": "execute_result"
    }
   ],
   "source": [
    "# Variables categoricas\n",
    "data.describe(include=[object])"
   ]
  },
  {
   "cell_type": "code",
   "execution_count": 9,
   "metadata": {},
   "outputs": [
    {
     "data": {
      "text/html": [
       "<div>\n",
       "<style scoped>\n",
       "    .dataframe tbody tr th:only-of-type {\n",
       "        vertical-align: middle;\n",
       "    }\n",
       "\n",
       "    .dataframe tbody tr th {\n",
       "        vertical-align: top;\n",
       "    }\n",
       "\n",
       "    .dataframe thead th {\n",
       "        text-align: right;\n",
       "    }\n",
       "</style>\n",
       "<table border=\"1\" class=\"dataframe\">\n",
       "  <thead>\n",
       "    <tr style=\"text-align: right;\">\n",
       "      <th></th>\n",
       "      <th>count</th>\n",
       "      <th>mean</th>\n",
       "      <th>std</th>\n",
       "      <th>min</th>\n",
       "      <th>25%</th>\n",
       "      <th>50%</th>\n",
       "      <th>75%</th>\n",
       "      <th>max</th>\n",
       "    </tr>\n",
       "  </thead>\n",
       "  <tbody>\n",
       "    <tr>\n",
       "      <th>Age</th>\n",
       "      <td>158.0</td>\n",
       "      <td>15.689873</td>\n",
       "      <td>7.615691</td>\n",
       "      <td>4.000</td>\n",
       "      <td>10.0000</td>\n",
       "      <td>14.000</td>\n",
       "      <td>20.0000</td>\n",
       "      <td>48.00</td>\n",
       "    </tr>\n",
       "    <tr>\n",
       "      <th>Tonnage</th>\n",
       "      <td>158.0</td>\n",
       "      <td>71.284671</td>\n",
       "      <td>37.229540</td>\n",
       "      <td>2.329</td>\n",
       "      <td>46.0130</td>\n",
       "      <td>71.899</td>\n",
       "      <td>90.7725</td>\n",
       "      <td>220.00</td>\n",
       "    </tr>\n",
       "    <tr>\n",
       "      <th>passengers</th>\n",
       "      <td>158.0</td>\n",
       "      <td>18.457405</td>\n",
       "      <td>9.677095</td>\n",
       "      <td>0.660</td>\n",
       "      <td>12.5350</td>\n",
       "      <td>19.500</td>\n",
       "      <td>24.8450</td>\n",
       "      <td>54.00</td>\n",
       "    </tr>\n",
       "    <tr>\n",
       "      <th>length</th>\n",
       "      <td>158.0</td>\n",
       "      <td>8.130633</td>\n",
       "      <td>1.793474</td>\n",
       "      <td>2.790</td>\n",
       "      <td>7.1000</td>\n",
       "      <td>8.555</td>\n",
       "      <td>9.5100</td>\n",
       "      <td>11.82</td>\n",
       "    </tr>\n",
       "    <tr>\n",
       "      <th>cabins</th>\n",
       "      <td>158.0</td>\n",
       "      <td>8.830000</td>\n",
       "      <td>4.471417</td>\n",
       "      <td>0.330</td>\n",
       "      <td>6.1325</td>\n",
       "      <td>9.570</td>\n",
       "      <td>10.8850</td>\n",
       "      <td>27.00</td>\n",
       "    </tr>\n",
       "    <tr>\n",
       "      <th>passenger_density</th>\n",
       "      <td>158.0</td>\n",
       "      <td>39.900949</td>\n",
       "      <td>8.639217</td>\n",
       "      <td>17.700</td>\n",
       "      <td>34.5700</td>\n",
       "      <td>39.085</td>\n",
       "      <td>44.1850</td>\n",
       "      <td>71.43</td>\n",
       "    </tr>\n",
       "    <tr>\n",
       "      <th>crew</th>\n",
       "      <td>158.0</td>\n",
       "      <td>7.794177</td>\n",
       "      <td>3.503487</td>\n",
       "      <td>0.590</td>\n",
       "      <td>5.4800</td>\n",
       "      <td>8.150</td>\n",
       "      <td>9.9900</td>\n",
       "      <td>21.00</td>\n",
       "    </tr>\n",
       "  </tbody>\n",
       "</table>\n",
       "</div>"
      ],
      "text/plain": [
       "                   count       mean        std     min      25%     50%  \\\n",
       "Age                158.0  15.689873   7.615691   4.000  10.0000  14.000   \n",
       "Tonnage            158.0  71.284671  37.229540   2.329  46.0130  71.899   \n",
       "passengers         158.0  18.457405   9.677095   0.660  12.5350  19.500   \n",
       "length             158.0   8.130633   1.793474   2.790   7.1000   8.555   \n",
       "cabins             158.0   8.830000   4.471417   0.330   6.1325   9.570   \n",
       "passenger_density  158.0  39.900949   8.639217  17.700  34.5700  39.085   \n",
       "crew               158.0   7.794177   3.503487   0.590   5.4800   8.150   \n",
       "\n",
       "                       75%     max  \n",
       "Age                20.0000   48.00  \n",
       "Tonnage            90.7725  220.00  \n",
       "passengers         24.8450   54.00  \n",
       "length              9.5100   11.82  \n",
       "cabins             10.8850   27.00  \n",
       "passenger_density  44.1850   71.43  \n",
       "crew                9.9900   21.00  "
      ]
     },
     "execution_count": 9,
     "metadata": {},
     "output_type": "execute_result"
    }
   ],
   "source": [
    "# Variables numericas\n",
    "data.describe().transpose()"
   ]
  },
  {
   "cell_type": "code",
   "execution_count": null,
   "metadata": {},
   "outputs": [],
   "source": [
    "# variables discretas\n",
    "plt.figure(figsize=(22,30))\n",
    "vars_to_plot = data.select_dtypes(include=['object']).columns.tolist()\n",
    "for i, var in enumerate(vars_to_plot):\n",
    "    plt.subplot(12,4,i+1)\n",
    "    sns.boxplot(x = var, y='edad_', data = data)\n",
    "    title_string = \"Boxplot of edad vs. \" + var\n",
    "    plt.ylabel(\"Edad\")\n",
    "    plt.title(title_string)"
   ]
  }
 ],
 "metadata": {
  "kernelspec": {
   "display_name": "Python 3.10.5 64-bit",
   "language": "python",
   "name": "python3"
  },
  "language_info": {
   "codemirror_mode": {
    "name": "ipython",
    "version": 3
   },
   "file_extension": ".py",
   "mimetype": "text/x-python",
   "name": "python",
   "nbconvert_exporter": "python",
   "pygments_lexer": "ipython3",
   "version": "3.10.5"
  },
  "orig_nbformat": 4,
  "vscode": {
   "interpreter": {
    "hash": "747feb8453f44c5b4b04c07d4d94e1bce658748b21f58073967b5b59e0c34550"
   }
  }
 },
 "nbformat": 4,
 "nbformat_minor": 2
}
